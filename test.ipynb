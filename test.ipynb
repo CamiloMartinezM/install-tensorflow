{
 "cells": [
  {
   "cell_type": "code",
   "execution_count": null,
   "id": "61c8aecf",
   "metadata": {},
   "outputs": [],
   "source": [
    "import tensorflow as tf\n",
    "from tensorflow.python.client import device_lib\n",
    "\n",
    "# TensorFlow-Version check\n",
    "print(\"TensorFlow Version:\", tf.__version__)\n",
    "\n",
    "gpus = tf.config.list_physical_devices(\"GPU\")\n",
    "print(\"GPU(s) Available:\", gpus)\n",
    "\n",
    "print(\"Devices:\", device_lib.list_local_devices())\n",
    "\n",
    "# https://github.com/tensorflow/tensorflow/issues/36465\n",
    "tf.config.experimental.set_memory_growth(gpus[0], True)"
   ]
  }
 ],
 "metadata": {
  "kernelspec": {
   "display_name": "tf-2.10",
   "language": "python",
   "name": "python3"
  },
  "language_info": {
   "codemirror_mode": {
    "name": "ipython",
    "version": 3
   },
   "file_extension": ".py",
   "mimetype": "text/x-python",
   "name": "python",
   "nbconvert_exporter": "python",
   "pygments_lexer": "ipython3",
   "version": "3.10.16"
  }
 },
 "nbformat": 4,
 "nbformat_minor": 5
}
